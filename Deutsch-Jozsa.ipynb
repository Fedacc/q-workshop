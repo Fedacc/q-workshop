{
 "cells": [
  {
   "cell_type": "markdown",
   "metadata": {},
   "source": [
    "# Deutsch-Jozsa algorithm application\n",
    "\n",
    "The following is an application on QISKIT of Deusch-Josza algorithm to determine the nature of an hidden boolean function. The function could be either constant, i.e. input independent, or balanced, so input dependent, and based on the elements of the starting domain wikl assume a balanced number of outputs.\n",
    "\n",
    "The exercise is based on the following steps:\n",
    "\n",
    "1) code import\n",
    "\n",
    "2) circuit initialization\n",
    "\n",
    "3) random generation of the \"function\"\n",
    "\n",
    "4) superposition of the entire system\n",
    "\n",
    "5) oracle realization based on the type of the function\n",
    "\n",
    "7) run on simulator\n",
    "\n",
    "8) print & plot of the results"
   ]
  },
  {
   "cell_type": "markdown",
   "metadata": {},
   "source": [
    "## A (qu)bit of theory and algorithm development\n",
    "\n",
    "This algorithm is interesting because it was in the history of quantum information the first one to show a sort of improvement, advantage, in the quantum approach compared to the classical one.\n",
    "With the quantum approach, it is possible to achieve the desired response with only one execution of the code, as long as we have a sufficient number of qubits at disposal to manage the input data. On the other hand i the classical approach in general it is necessary to perform at least 2 runs i the best case scenario, while on average it is necesary to sample half of the inputs (plus one, for example with 8 inputs in general we need 5 attempts).\n",
    "\n",
    "So for a classical computer the number of attempts is  \n",
    "\n",
    "$$\n",
    "2^{n-1} + 1 \n",
    "$$\n",
    "Algorithm steps\n",
    "1. Prepare 2 quantum registers ala initialized at |0>. The first is a register of $n$-qubits (in this case 2) to interrogate the oracle, the second one is a register composed of 1 qubit to store the oracle's answer\n",
    "$$\n",
    "|0\\ldots 0\\rangle |0\\rangle\n",
    "$$\n",
    "2. Aply superposition on all qubits of the first register with the Hadamard gate.\n",
    "$$\n",
    "H^{\\otimes^n} |0\\ldots 0\\rangle |0\\rangle = \\frac{1}{\\sqrt{2^n}}\\sum_{i=0}^{2^n-1}|i\\rangle |0\\rangle \n",
    "$$\n",
    "3. Let's flip the second register (apply gate $X$) and let's apply the Hadamard gate. In this way we can register the response of the oracle in the phase.\n",
    "$$\n",
    "\\frac{1}{\\sqrt{2^n}}\\sum_{i=0}^{2^n-1}|i\\rangle |0\\rangle \\rightarrow \\frac{1}{\\sqrt{2^{n+1}}}\\sum_{i=0}^{2^n-1}|i\\rangle ( |0\\rangle - |1\\rangle )\n",
    "$$\n",
    "4. Interrogate the oracle\n",
    "$$\n",
    "\\frac{1}{\\sqrt{2^{n+1}}}\\sum_{i=0}^{2^n-1}|i\\rangle ( |0\\rangle - |1\\rangle ) \\rightarrow \\frac{1}{\\sqrt{2^{n+1}}}\\sum_{i=0}^{2^n-1}(-1)^{f(i)}|i\\rangle ( |0\\rangle - |1\\rangle ) \n",
    "$$\n",
    "5. Apply again $H$ to the first register\n",
    "\n",
    "6. Measure the first register. If even one of the qubits it is non-zero, then the hidden function is balanced, otherwise is constant. \n",
    "\n",
    "The explanation of the result can be explained in this way:: \n",
    "\n",
    "When the boolean function is constant, the quantum state before and after the application of the oracle is the same. The inverse of the Hadamard gate is the Hadamard gate itself. In this way in the step 5 we are only  reverting the step 2 to get back the same initial state of all |0> in the first register.\n",
    "\n",
    "On the other hand when the hidden function is balanced, the quantum state after the oracle is orthogonal to the initial one. So with step 5 when the operation is reverted, we get probability equal to zero to get back a state with all zeros in the first register."
   ]
  },
  {
   "cell_type": "markdown",
   "metadata": {},
   "source": [
    "## Code Import <a id=\"circuit\"></a>\n",
    "\n",
    "Load in the python environment the required qiskit modules"
   ]
  },
  {
   "cell_type": "code",
   "execution_count": 3,
   "metadata": {
    "ExecuteTime": {
     "end_time": "2018-09-26T15:39:22.130660Z",
     "start_time": "2018-09-26T15:39:20.490197Z"
    }
   },
   "outputs": [],
   "source": [
    "# useful additional packages \n",
    "import numpy as np\n",
    "import matplotlib.pyplot as plt\n",
    "%matplotlib inline\n",
    "\n",
    "# importing Qiskit\n",
    "from qiskit import Aer, IBMQ\n",
    "from qiskit import QuantumCircuit, ClassicalRegister, QuantumRegister\n",
    "import qiskit as qk\n",
    "#from qiskit.wrapper.jupyter import *\n",
    "\n",
    "# import basic plot tools\n",
    "from qiskit.tools.visualization import circuit_drawer, plot_histogram"
   ]
  },
  {
   "cell_type": "markdown",
   "metadata": {},
   "source": [
    "## Load IBM-Q <a id=\"circuit\"></a>\n",
    "\n",
    "If the account was already loaded we will only get a warning"
   ]
  },
  {
   "cell_type": "code",
   "execution_count": 4,
   "metadata": {
    "ExecuteTime": {
     "end_time": "2018-09-26T15:39:23.056039Z",
     "start_time": "2018-09-26T15:39:22.132345Z"
    }
   },
   "outputs": [],
   "source": [
    "#IBMQ.save_account('APItoken')\n",
    "# Load our saved IBMQ accounts\n",
    "IBMQ.load_accounts()"
   ]
  },
  {
   "cell_type": "markdown",
   "metadata": {},
   "source": [
    "Create first quantum register (2 qubits)"
   ]
  },
  {
   "cell_type": "code",
   "execution_count": 5,
   "metadata": {
    "ExecuteTime": {
     "end_time": "2018-09-26T15:39:24.251778Z",
     "start_time": "2018-09-26T15:39:24.247587Z"
    }
   },
   "outputs": [],
   "source": [
    "n = 2 # n is the length of the first register"
   ]
  },
  {
   "cell_type": "markdown",
   "metadata": {},
   "source": [
    "let's code the algorithm with the structure described before"
   ]
  },
  {
   "cell_type": "code",
   "execution_count": 6,
   "metadata": {
    "ExecuteTime": {
     "end_time": "2018-09-26T15:39:24.980983Z",
     "start_time": "2018-09-26T15:39:24.968037Z"
    }
   },
   "outputs": [
    {
     "name": "stdout",
     "output_type": "stream",
     "text": [
      "The oracle is balanced\n"
     ]
    }
   ],
   "source": [
    "# Let's choose ranomly the type of oracle. The probability that it is balanced is 50% and that is constant is 50%\n",
    "# In order to do so we will use a function from numpy module\n",
    "\n",
    "oracleType, oracleValue = np.random.randint(2), np.random.randint(2)\n",
    "\n",
    "if oracleType == 0:\n",
    "    print(\"The oracle is constant \", oracleValue)\n",
    "else:\n",
    "    print(\"The oracle is balanced\")\n",
    "    a = np.random.randint(1,2**n) # let's save an hidden value for the balanced function. \n",
    "\n",
    "# create quantum and classical registers all initialized at zero\n",
    "# 2 qubits for oracle interrogation, and the other one is to save the result\n",
    "qr = QuantumRegister(n+1) \n",
    "# we only need the classical register for the measurement of the first quantum circuit\n",
    "cr = ClassicalRegister(n)\n",
    "\n",
    "circuitName = \"DeutschJozsa\"\n",
    "djCircuit = QuantumCircuit(qr, cr)\n",
    "\n",
    "# Superpose the first register.\n",
    "for i in range(n):\n",
    "    djCircuit.h(qr[i])\n",
    "\n",
    "# Invert the second register and apply H.\n",
    "djCircuit.x(qr[n])\n",
    "djCircuit.h(qr[n])\n",
    "    \n",
    "# Let's visualize a barrier of the oracle (this is only for stylistical purpose)\n",
    "djCircuit.barrier()\n",
    "\n",
    "if oracleType == 0:#The function is constant \n",
    "    if oracleValue == 1:\n",
    "        djCircuit.x(qr[n])\n",
    "    else:\n",
    "        djCircuit.iden(qr[n])\n",
    "else: # The function is balanced, in that case the oracle applies a CNOT on the qubit i controlling the qubit n\n",
    "    for i in range(n):\n",
    "        if (a & (1 << i)):\n",
    "            djCircuit.cx(qr[i], qr[n])\n",
    "        \n",
    "# End of the oracle, let's close the barrier\n",
    "djCircuit.barrier()\n",
    "\n",
    "# Apply H to each qubit\n",
    "for i in range(n):\n",
    "    djCircuit.h(qr[i])\n",
    "    \n",
    "# Measure\n",
    "djCircuit.barrier()\n",
    "for i in range(n):\n",
    "    djCircuit.measure(qr[i], cr[i])"
   ]
  },
  {
   "cell_type": "markdown",
   "metadata": {},
   "source": [
    "## Run on simulator\n",
    "\n",
    "Visualize the circuit."
   ]
  },
  {
   "cell_type": "code",
   "execution_count": 7,
   "metadata": {
    "ExecuteTime": {
     "end_time": "2018-09-26T15:39:31.705137Z",
     "start_time": "2018-09-26T15:39:26.587871Z"
    }
   },
   "outputs": [
    {
     "name": "stderr",
     "output_type": "stream",
     "text": [
      "/srv/conda/lib/python3.6/site-packages/qiskit/tools/visualization/_circuit_visualization.py:206: DeprecationWarning: The current behavior for the default output will change in a future release. Instead of trying latex and falling back to mpl on failure it will just use \"text\" by default\n",
      "  '\"text\" by default', DeprecationWarning)\n",
      "WARNING Unable to compile latex. The output from the pdflatex command can be found in latex_error.log\n"
     ]
    },
    {
     "data": {
      "image/png": "[encoded data removed]",
      "text/plain": [
       "<matplotlib.figure.Figure at 0x7f723c9b6320>"
      ]
     },
     "execution_count": 7,
     "metadata": {},
     "output_type": "execute_result"
    }
   ],
   "source": [
    "#draw the circuit\n",
    "circuit_drawer(djCircuit)"
   ]
  },
  {
   "cell_type": "markdown",
   "metadata": {},
   "source": [
    "Execute the circuit on the simulator"
   ]
  },
  {
   "cell_type": "code",
   "execution_count": 9,
   "metadata": {
    "ExecuteTime": {
     "end_time": "2018-09-26T15:39:32.111682Z",
     "start_time": "2018-09-26T15:39:31.709658Z"
    }
   },
   "outputs": [
    {
     "data": {
      "image/png": "[encoded data removed]",
      "text/plain": [
       "<matplotlib.figure.Figure at 0x7f722efb99e8>"
      ]
     },
     "execution_count": 9,
     "metadata": {},
     "output_type": "execute_result"
    }
   ],
   "source": [
    "backend = Aer.get_backend('qasm_simulator')\n",
    "shots = 1024\n",
    "job = qk.execute(djCircuit, backend=backend, shots=shots)\n",
    "results = job.result() \n",
    "answer = results.get_counts()\n",
    "\n",
    "plot_histogram(answer)"
   ]
  },
  {
   "cell_type": "markdown",
   "metadata": {},
   "source": [
    "Repeat the experiment changing the number of qubits showing the different behavior based on the hidden function \n",
    "\n",
    "## Run on real device\n",
    "\n",
    "The Deutsch-Jozsa algorithm has a theoretical valence.n Given the fact that the real device is noisy, the result is probabilistic. If we use a probabilistic approach also for the classical computer, then the problem is in the same domain BPP (Bounded error Probabilistic Polynomial Time) and the number of iteractions to solve it becomes constant and the two proposed methods will reach asymptotically the same efficiency."
   ]
  },
  {
   "cell_type": "code",
   "execution_count": 11,
   "metadata": {
    "ExecuteTime": {
     "end_time": "2018-09-26T15:39:38.192969Z",
     "start_time": "2018-09-26T15:39:37.138264Z"
    }
   },
   "outputs": [
    {
     "data": {
      "application/vnd.jupyter.widget-view+json": {
       "model_id": "3bf3f0e22368418c9e30ee755a4df400",
       "version_major": 2,
       "version_minor": 0
      },
      "text/plain": [
       "HTML(value=\"<p style='font-size:16px;'>Job Status: job is being initialized </p>\")"
      ]
     },
     "metadata": {},
     "output_type": "display_data"
    }
   ],
   "source": [
    "from qiskit.tools.monitor import job_monitor\n",
    "backend = IBMQ.get_backend('ibmq_16_melbourne')\n",
    "shots = 1024 \n",
    "job = qk.execute(djCircuit, backend=backend, shots=shots)\n",
    "job_monitor(job, interval=5)"
   ]
  },
  {
   "cell_type": "code",
   "execution_count": 17,
   "metadata": {
    "ExecuteTime": {
     "end_time": "2018-09-26T16:10:01.485559Z",
     "start_time": "2018-09-26T16:10:00.962392Z"
    }
   },
   "outputs": [
    {
     "data": {
      "image/png": "[encoded data removed]",
      "text/plain": [
       "<matplotlib.figure.Figure at 0x7f722eebde48>"
      ]
     },
     "execution_count": 17,
     "metadata": {},
     "output_type": "execute_result"
    }
   ],
   "source": [
    "results = job.result()\n",
    "answer = results.get_counts()\n",
    "\n",
    "threshold = int(0.03 * shots) # set a threshold for significant measurements\n",
    "filteredAnswer = {k: v for k,v in answer.items() if v >= threshold} # filter for an optimal visualization of the results\n",
    "\n",
    "removedCounts = np.sum([ v for k,v in answer.items() if v < threshold ]) # \n",
    "filteredAnswer['other_bitstring'] = removedCounts  # \n",
    "\n",
    "plot_histogram(answer)"
   ]
  },
  {
   "cell_type": "code",
   "execution_count": 18,
   "metadata": {},
   "outputs": [
    {
     "name": "stdout",
     "output_type": "stream",
     "text": [
      "{'10': 909, '01': 2, '00': 82, '11': 31}\n"
     ]
    }
   ],
   "source": [
    "print(answer)"
   ]
  }
 ],
 "metadata": {
  "kernelspec": {
   "display_name": "Python 3",
   "language": "python",
   "name": "python3"
  },
  "language_info": {
   "codemirror_mode": {
    "name": "ipython",
    "version": 3
   },
   "file_extension": ".py",
   "mimetype": "text/x-python",
   "name": "python",
   "nbconvert_exporter": "python",
   "pygments_lexer": "ipython3",
   "version": "3.6.0"
  }
 },
 "nbformat": 4,
 "nbformat_minor": 2
}
